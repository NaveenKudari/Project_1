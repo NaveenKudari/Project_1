{
 "cells": [
  {
   "cell_type": "code",
   "execution_count": 11,
   "metadata": {},
   "outputs": [
    {
     "name": "stdout",
     "output_type": "stream",
     "text": [
      "[]\n"
     ]
    },
    {
     "data": {
      "application/vnd.jupyter.widget-view+json": {
       "model_id": "dba91ff630cc46eeb0996ea656e20e4b",
       "version_major": 2,
       "version_minor": 0
      },
      "text/plain": [
       "A Jupyter Widget"
      ]
     },
     "metadata": {},
     "output_type": "display_data"
    },
    {
     "name": "stdout",
     "output_type": "stream",
     "text": [
      "\n",
      "0\n"
     ]
    },
    {
     "name": "stderr",
     "output_type": "stream",
     "text": [
      "C:\\Users\\naveen.kudari\\AppData\\Local\\Continuum\\anaconda3\\lib\\site-packages\\sklearn\\model_selection\\_split.py:605: Warning: The least populated class in y has only 2 members, which is too few. The minimum number of members in any class cannot be less than n_splits=10.\n",
      "  % (min_groups, self.n_splits)), Warning)\n"
     ]
    },
    {
     "data": {
      "text/plain": [
       "0.12901058543599792"
      ]
     },
     "execution_count": 11,
     "metadata": {},
     "output_type": "execute_result"
    }
   ],
   "source": [
    "import sqlite3\n",
    "import pandas as pd\n",
    "import numpy as np\n",
    "from sklearn.tree import DecisionTreeRegressor\n",
    "from sklearn.tree import DecisionTreeClassifier\n",
    "from sklearn.linear_model import LinearRegression\n",
    "from sklearn.model_selection import train_test_split\n",
    "from sklearn.metrics import mean_squared_error\n",
    "from math import sqrt\n",
    "import tqdm\n",
    "from tqdm import tqdm_notebook\n",
    "import matplotlib.pyplot as plt\n",
    "from sklearn.preprocessing import MinMaxScaler\n",
    "from sklearn.preprocessing import StandardScaler\n",
    "from sklearn.neighbors import KNeighborsClassifier\n",
    "from sklearn.metrics import accuracy_score\n",
    "from sklearn.linear_model import LogisticRegression\n",
    "from sklearn.model_selection import StratifiedKFold\n",
    "from sklearn.model_selection import cross_val_score\n",
    "from sklearn.preprocessing import LabelEncoder \n",
    "\n",
    "cnx = sqlite3.connect('F:\\py_assignment\\project1\\database.sqlite')\n",
    "df = pd.read_sql_query(\"SELECT * FROM Player_Attributes\", cnx)\n",
    "\n",
    "input_data=df.copy(deep=True)\n",
    "\n",
    "#Number of Nan's for each bject\n",
    "input_data.isnull().sum(axis=1).sort_values(ascending=False)[:15]\n",
    "\n",
    "input_data.isnull().sum(axis=0).sort_values(ascending=False)\n",
    "\n",
    "#dropna=False makes nunique treat NaNs  as a distinct value\n",
    "feats_counts= input_data.nunique(dropna= False)\n",
    "\n",
    "feats_counts.sort_values()[:10]\n",
    "\n",
    "constant_features= feats_counts.loc[feats_counts==1].index.tolist()\n",
    "\n",
    "print(constant_features)\n",
    "\n",
    "input_data.drop(constant_features,axis=1,inplace=True)\n",
    "\n",
    "#remove duplicated features\n",
    "input_data.fillna('NaN',inplace=True)\n",
    "\n",
    "input_data_enc=pd.DataFrame(index=input_data.index)\n",
    "\n",
    "for col in tqdm_notebook(input_data.columns):\n",
    "    input_data_enc[col]=input_data[col].factorize()[0]\n",
    "\n",
    "#duplicate columns\n",
    "dupes=input_data.duplicated()\n",
    "#No duplicates fund\n",
    "print(sum(dupes))\n",
    "\n",
    "#converting date to julian date\n",
    "input_data['newdate']=pd.to_datetime(input_data['date'])\n",
    "input_data['newdate']=pd.to_datetime(0,unit='s').to_julian_date()\n",
    "\n",
    "input_data=input_data.drop(['date'],axis=1)\n",
    "\n",
    "nunique= input_data.nunique(dropna=False)\n",
    "nunique\n",
    "\n",
    "mask=(nunique.astype(float)/input_data.shape[0]<0.8) & (nunique.astype(float)/input_data.shape[0]<0.4)\n",
    "input_data.loc[:22,mask]\n",
    "\n",
    "dataset_target= input_data['overall_rating']\n",
    "input_data.drop('overall_rating',axis=1, inplace=True)\n",
    "\n",
    "cat_cols=list(input_data.select_dtypes(include=['object']).columns)\n",
    "num_cols=list(input_data.select_dtypes(exclude=['object']).columns)\n",
    "\n",
    "num_cols\n",
    "\n",
    "N=StandardScaler()\n",
    "N.fit(input_data[num_cols])\n",
    "input_data_norm=N.transform(input_data[num_cols])\n",
    "\n",
    "input_data[cat_cols].head()\n",
    "\n",
    "input_data_lenc=pd.DataFrame({})\n",
    "le=LabelEncoder()\n",
    "for c in cat_cols:\n",
    "        input_data_lenc[c] = le.fit_transform(list(input_data[c]))\n",
    "        \n",
    "input_data_lenc.head()\n",
    "input_data_norm[:1]\n",
    "dataset_features= np.concatenate((input_data_norm , input_data_lenc),axis=1)\n",
    "\n",
    "kfold= StratifiedKFold(n_splits=10)\n",
    "\n",
    "dataset_target= dataset_target.astype('str')\n",
    "\n",
    "DTC=DecisionTreeClassifier(max_depth=3)\n",
    "cv_results= cross_val_score(DTC,dataset_features,dataset_target.values,cv=kfold,scoring=\"accuracy\")\n",
    "\n",
    "#prints accuracy of 0.12\n",
    "cv_results.mean()\n"
   ]
  }
 ],
 "metadata": {
  "kernelspec": {
   "display_name": "Python 3",
   "language": "python",
   "name": "python3"
  },
  "language_info": {
   "codemirror_mode": {
    "name": "ipython",
    "version": 3
   },
   "file_extension": ".py",
   "mimetype": "text/x-python",
   "name": "python",
   "nbconvert_exporter": "python",
   "pygments_lexer": "ipython3",
   "version": "3.6.3"
  }
 },
 "nbformat": 4,
 "nbformat_minor": 2
}
