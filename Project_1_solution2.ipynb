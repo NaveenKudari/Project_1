{
 "cells": [
  {
   "cell_type": "code",
   "execution_count": 2,
   "metadata": {},
   "outputs": [
    {
     "name": "stdout",
     "output_type": "stream",
     "text": [
      "183978 42\n"
     ]
    },
    {
     "data": {
      "application/vnd.jupyter.widget-view+json": {
       "model_id": "9415109810a84ab18189252199027ddf",
       "version_major": 2,
       "version_minor": 0
      },
      "text/plain": [
       "A Jupyter Widget"
      ]
     },
     "metadata": {},
     "output_type": "display_data"
    },
    {
     "name": "stdout",
     "output_type": "stream",
     "text": [
      "\n",
      "MinMaxScaler(copy=True, feature_range=(0, 1))\n"
     ]
    },
    {
     "name": "stderr",
     "output_type": "stream",
     "text": [
      "C:\\Users\\naveen.kudari\\AppData\\Local\\Continuum\\anaconda3\\lib\\site-packages\\sklearn\\utils\\validation.py:578: DataConversionWarning: A column-vector y was passed when a 1d array was expected. Please change the shape of y to (n_samples, ), for example using ravel().\n",
      "  y = column_or_1d(y, warn=True)\n"
     ]
    },
    {
     "name": "stdout",
     "output_type": "stream",
     "text": [
      "5.64223693403\n"
     ]
    }
   ],
   "source": [
    "import sqlite3\n",
    "import pandas as pd\n",
    "import numpy as np\n",
    "from sklearn.tree import DecisionTreeRegressor\n",
    "from sklearn.tree import DecisionTreeClassifier\n",
    "from sklearn.linear_model import LinearRegression\n",
    "from sklearn.model_selection import train_test_split\n",
    "from sklearn.metrics import mean_squared_error\n",
    "from math import sqrt\n",
    "import tqdm\n",
    "from tqdm import tqdm_notebook\n",
    "import matplotlib.pyplot as plt\n",
    "from sklearn.preprocessing import MinMaxScaler\n",
    "from sklearn.neighbors import KNeighborsClassifier\n",
    "from sklearn.metrics import accuracy_score\n",
    "from sklearn.linear_model import LogisticRegression\n",
    "from sklearn.model_selection import StratifiedKFold\n",
    "from sklearn.model_selection import cross_val_score\n",
    "\n",
    "# Create your connection.\n",
    "cnx = sqlite3.connect('F:\\py_assignment\\project1\\database.sqlite')\n",
    "df = pd.read_sql_query(\"SELECT * FROM Player_Attributes\", cnx)\n",
    "input_data=df.copy(deep=True)\n",
    "print(input_data.shape[0],input_data.shape[1])\n",
    "\n",
    "#checking for duplicate columns, \n",
    "dupes=input_data.duplicated()\n",
    "#No duplicates fund\n",
    "#print(sum(dupes))\n",
    "\n",
    "\n",
    "\n",
    "#seperate\n",
    "#finding the missing and null values \n",
    "#print(input_data.isnull().sum(axis=1).sort_values(ascending=False)[:15])\n",
    "\n",
    "#delete rows having maximum missing values \n",
    "input_data.dropna(inplace=True)\n",
    "#input_data.head()\n",
    "#print(input_data.isnull().sum(axis=1).sort_values(ascending=False)[:15])\n",
    "\n",
    "\n",
    "#seperate\n",
    "#factorize the columns\n",
    "input_data_enc=pd.DataFrame(index=input_data.index)\n",
    "for col in tqdm_notebook(input_data.columns):\n",
    "    input_data_enc[col]=input_data[col].factorize()[0]\n",
    "    \n",
    "#converting date to julian date\n",
    "input_data_enc['newdate']=pd.to_datetime(input_data_enc['date'])\n",
    "input_data_enc['newdate']=pd.to_datetime(0,unit='s').to_julian_date()\n",
    "\n",
    "input_data_enc.drop(['date'],axis=1,inplace=True)\n",
    "\n",
    "\n",
    "\n",
    "#seperate\n",
    "#printing non unique values\n",
    "nunique=input_data_enc.nunique(dropna=False)\n",
    "#print(nunique)\n",
    "\n",
    "#plt.hist(nunique.astype(float)/input_data_enc.shape[0],bins=100)\n",
    "#plt.show()\n",
    "mask=(nunique.astype(float)/input_data_enc.shape[0]>0.8)\n",
    "input_data_enc.loc[:,mask][:15]\n",
    "Y=input_data_enc['overall_rating']\n",
    "y=np.array(Y).reshape(-1,1)\n",
    "\n",
    "#input_data_enc.drop(['overall_rating'],axis=1,inplace=True)\n",
    "X=input_data.index\n",
    "x = np.array(X).reshape(-1,1)\n",
    "#input_data_enc.drop(['overall_rating'],axis = 1)\n",
    "X_train,X_test,y_train,y_test = train_test_split(x, y, train_size=0.5,test_size=0.5)\n",
    "\n",
    "scaler = MinMaxScaler(feature_range=(0, 1))\n",
    "print(scaler)\n",
    "rescaledX_train = scaler.fit_transform(X_train.astype(float))\n",
    "rescaledx_test = scaler.fit_transform(X_test.astype(float))\n",
    "#rescaledY_train = scaler.fit_transform(y_train.astype(float))\n",
    "#rescaledY_test = scaler.fit_transform(y_test.astype(float))\n",
    "\n",
    "#kfold=StratifiedKFold(n_splits=10)\n",
    "\n",
    "\n",
    "#clf_gini = DecisionTreeClassifier(max_depth=3)\n",
    "\n",
    "#cv_results=cross_val_score(clf_gini,rescaledX_train,rescaledx_test, cv=kfold, scoring=\"accuracy\")\n",
    "#regressor = DecisionTreeRegressor(random_state=0)\n",
    "\n",
    "#wotking this code\n",
    "#clf_gini.fit(rescaledX_train, y_train)\n",
    "\n",
    "#clf_gini.fit(rescaledX_train,rescaledY_train)\n",
    "\n",
    "#log=LogisticRegression()\n",
    "#log.fit(rescaledX_train,y_train)\n",
    "\n",
    "#0.33\n",
    "knn=KNeighborsClassifier(n_neighbors=5)\n",
    "knn.fit(rescaledX_train,y_train)\n",
    "# Checking the model's accuracy\n",
    "\n",
    "#logistic Regression\n",
    "#prints accuracy of 5.64\n",
    "#print(accuracy_score(y_test,log.predict(rescaledx_test))*100)\n",
    "\n",
    "#knn classifier\n",
    "#prints accuracy of 0.33\n",
    "print(accuracy_score(y_test,knn.predict(rescaledx_test))*100)\n",
    "\n",
    "\n",
    "#decision tree\n",
    "#print(accuracy_score(rescaledY_test,clf_gini.predict(rescaledx_test)))"
   ]
  }
 ],
 "metadata": {
  "kernelspec": {
   "display_name": "Python 3",
   "language": "python",
   "name": "python3"
  },
  "language_info": {
   "codemirror_mode": {
    "name": "ipython",
    "version": 3
   },
   "file_extension": ".py",
   "mimetype": "text/x-python",
   "name": "python",
   "nbconvert_exporter": "python",
   "pygments_lexer": "ipython3",
   "version": "3.6.3"
  }
 },
 "nbformat": 4,
 "nbformat_minor": 2
}
